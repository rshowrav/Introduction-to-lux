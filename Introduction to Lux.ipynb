{
 "cells": [
  {
   "cell_type": "code",
   "execution_count": 1,
   "id": "062ade63",
   "metadata": {},
   "outputs": [
    {
     "name": "stdout",
     "output_type": "stream",
     "text": [
      "Requirement already satisfied: pandas in c:\\users\\rifay\\anaconda3\\lib\\site-packages (1.3.4)\n",
      "Requirement already satisfied: pytz>=2017.3 in c:\\users\\rifay\\anaconda3\\lib\\site-packages (from pandas) (2021.3)\n",
      "Requirement already satisfied: python-dateutil>=2.7.3 in c:\\users\\rifay\\anaconda3\\lib\\site-packages (from pandas) (2.8.2)\n",
      "Requirement already satisfied: numpy>=1.17.3 in c:\\users\\rifay\\anaconda3\\lib\\site-packages (from pandas) (1.20.3)\n",
      "Requirement already satisfied: six>=1.5 in c:\\users\\rifay\\anaconda3\\lib\\site-packages (from python-dateutil>=2.7.3->pandas) (1.16.0)\n",
      "Requirement already satisfied: lux-api in c:\\users\\rifay\\anaconda3\\lib\\site-packages (0.5.1)\n",
      "Requirement already satisfied: altair>=4.0.0 in c:\\users\\rifay\\anaconda3\\lib\\site-packages (from lux-api) (4.2.0)\n",
      "Requirement already satisfied: numpy>=1.16.5 in c:\\users\\rifay\\anaconda3\\lib\\site-packages (from lux-api) (1.20.3)\n",
      "Requirement already satisfied: matplotlib>=3.0.0 in c:\\users\\rifay\\anaconda3\\lib\\site-packages (from lux-api) (3.4.3)\n",
      "Requirement already satisfied: lux-widget>=0.1.4 in c:\\users\\rifay\\anaconda3\\lib\\site-packages (from lux-api) (0.1.11)\n",
      "Requirement already satisfied: iso3166 in c:\\users\\rifay\\anaconda3\\lib\\site-packages (from lux-api) (2.1.1)\n",
      "Requirement already satisfied: autopep8>=1.5 in c:\\users\\rifay\\anaconda3\\lib\\site-packages (from lux-api) (1.5.7)\n",
      "Requirement already satisfied: psutil>=5.9.0 in c:\\users\\rifay\\anaconda3\\lib\\site-packages (from lux-api) (5.9.2)\n",
      "Requirement already satisfied: pandas in c:\\users\\rifay\\anaconda3\\lib\\site-packages (from lux-api) (1.3.4)\n",
      "Requirement already satisfied: scipy>=1.3.3 in c:\\users\\rifay\\anaconda3\\lib\\site-packages (from lux-api) (1.7.1)\n",
      "Requirement already satisfied: scikit-learn>=0.22 in c:\\users\\rifay\\anaconda3\\lib\\site-packages (from lux-api) (0.24.2)\n",
      "Requirement already satisfied: sh in c:\\users\\rifay\\anaconda3\\lib\\site-packages (from lux-api) (1.14.2)\n",
      "Requirement already satisfied: toolz in c:\\users\\rifay\\anaconda3\\lib\\site-packages (from altair>=4.0.0->lux-api) (0.11.1)\n",
      "Requirement already satisfied: entrypoints in c:\\users\\rifay\\anaconda3\\lib\\site-packages (from altair>=4.0.0->lux-api) (0.3)\n",
      "Requirement already satisfied: jsonschema>=3.0 in c:\\users\\rifay\\anaconda3\\lib\\site-packages (from altair>=4.0.0->lux-api) (3.2.0)\n",
      "Requirement already satisfied: jinja2 in c:\\users\\rifay\\anaconda3\\lib\\site-packages (from altair>=4.0.0->lux-api) (2.11.3)\n",
      "Requirement already satisfied: toml in c:\\users\\rifay\\anaconda3\\lib\\site-packages (from autopep8>=1.5->lux-api) (0.10.2)\n",
      "Requirement already satisfied: pycodestyle>=2.7.0 in c:\\users\\rifay\\anaconda3\\lib\\site-packages (from autopep8>=1.5->lux-api) (2.7.0)\n",
      "Requirement already satisfied: setuptools in c:\\users\\rifay\\anaconda3\\lib\\site-packages (from jsonschema>=3.0->altair>=4.0.0->lux-api) (58.0.4)\n",
      "Requirement already satisfied: six>=1.11.0 in c:\\users\\rifay\\anaconda3\\lib\\site-packages (from jsonschema>=3.0->altair>=4.0.0->lux-api) (1.16.0)\n",
      "Requirement already satisfied: attrs>=17.4.0 in c:\\users\\rifay\\anaconda3\\lib\\site-packages (from jsonschema>=3.0->altair>=4.0.0->lux-api) (21.2.0)\n",
      "Requirement already satisfied: pyrsistent>=0.14.0 in c:\\users\\rifay\\anaconda3\\lib\\site-packages (from jsonschema>=3.0->altair>=4.0.0->lux-api) (0.18.0)\n",
      "Requirement already satisfied: notebook>=4.0.0 in c:\\users\\rifay\\anaconda3\\lib\\site-packages (from lux-widget>=0.1.4->lux-api) (6.4.5)\n",
      "Requirement already satisfied: ipywidgets>=7.5.0 in c:\\users\\rifay\\anaconda3\\lib\\site-packages (from lux-widget>=0.1.4->lux-api) (7.6.5)\n",
      "Requirement already satisfied: widgetsnbextension~=3.5.0 in c:\\users\\rifay\\anaconda3\\lib\\site-packages (from ipywidgets>=7.5.0->lux-widget>=0.1.4->lux-api) (3.5.1)\n",
      "Requirement already satisfied: jupyterlab-widgets>=1.0.0 in c:\\users\\rifay\\anaconda3\\lib\\site-packages (from ipywidgets>=7.5.0->lux-widget>=0.1.4->lux-api) (1.0.0)\n",
      "Requirement already satisfied: ipykernel>=4.5.1 in c:\\users\\rifay\\anaconda3\\lib\\site-packages (from ipywidgets>=7.5.0->lux-widget>=0.1.4->lux-api) (6.4.1)\n",
      "Requirement already satisfied: ipython-genutils~=0.2.0 in c:\\users\\rifay\\anaconda3\\lib\\site-packages (from ipywidgets>=7.5.0->lux-widget>=0.1.4->lux-api) (0.2.0)\n",
      "Requirement already satisfied: nbformat>=4.2.0 in c:\\users\\rifay\\anaconda3\\lib\\site-packages (from ipywidgets>=7.5.0->lux-widget>=0.1.4->lux-api) (5.1.3)\n",
      "Requirement already satisfied: traitlets>=4.3.1 in c:\\users\\rifay\\anaconda3\\lib\\site-packages (from ipywidgets>=7.5.0->lux-widget>=0.1.4->lux-api) (5.1.0)\n",
      "Requirement already satisfied: ipython>=4.0.0 in c:\\users\\rifay\\anaconda3\\lib\\site-packages (from ipywidgets>=7.5.0->lux-widget>=0.1.4->lux-api) (7.29.0)\n",
      "Requirement already satisfied: jupyter-client<8.0 in c:\\users\\rifay\\anaconda3\\lib\\site-packages (from ipykernel>=4.5.1->ipywidgets>=7.5.0->lux-widget>=0.1.4->lux-api) (6.1.12)\n",
      "Requirement already satisfied: debugpy<2.0,>=1.0.0 in c:\\users\\rifay\\anaconda3\\lib\\site-packages (from ipykernel>=4.5.1->ipywidgets>=7.5.0->lux-widget>=0.1.4->lux-api) (1.4.1)\n",
      "Requirement already satisfied: tornado<7.0,>=4.2 in c:\\users\\rifay\\anaconda3\\lib\\site-packages (from ipykernel>=4.5.1->ipywidgets>=7.5.0->lux-widget>=0.1.4->lux-api) (6.1)\n",
      "Requirement already satisfied: matplotlib-inline<0.2.0,>=0.1.0 in c:\\users\\rifay\\anaconda3\\lib\\site-packages (from ipykernel>=4.5.1->ipywidgets>=7.5.0->lux-widget>=0.1.4->lux-api) (0.1.2)\n",
      "Requirement already satisfied: pickleshare in c:\\users\\rifay\\anaconda3\\lib\\site-packages (from ipython>=4.0.0->ipywidgets>=7.5.0->lux-widget>=0.1.4->lux-api) (0.7.5)\n",
      "Requirement already satisfied: jedi>=0.16 in c:\\users\\rifay\\anaconda3\\lib\\site-packages (from ipython>=4.0.0->ipywidgets>=7.5.0->lux-widget>=0.1.4->lux-api) (0.18.0)\n",
      "Requirement already satisfied: prompt-toolkit!=3.0.0,!=3.0.1,<3.1.0,>=2.0.0 in c:\\users\\rifay\\anaconda3\\lib\\site-packages (from ipython>=4.0.0->ipywidgets>=7.5.0->lux-widget>=0.1.4->lux-api) (3.0.20)\n",
      "Requirement already satisfied: pygments in c:\\users\\rifay\\anaconda3\\lib\\site-packages (from ipython>=4.0.0->ipywidgets>=7.5.0->lux-widget>=0.1.4->lux-api) (2.10.0)\n",
      "Requirement already satisfied: decorator in c:\\users\\rifay\\anaconda3\\lib\\site-packages (from ipython>=4.0.0->ipywidgets>=7.5.0->lux-widget>=0.1.4->lux-api) (5.1.0)\n",
      "Requirement already satisfied: backcall in c:\\users\\rifay\\anaconda3\\lib\\site-packages (from ipython>=4.0.0->ipywidgets>=7.5.0->lux-widget>=0.1.4->lux-api) (0.2.0)\n",
      "Requirement already satisfied: colorama in c:\\users\\rifay\\anaconda3\\lib\\site-packages (from ipython>=4.0.0->ipywidgets>=7.5.0->lux-widget>=0.1.4->lux-api) (0.4.4)\n",
      "Requirement already satisfied: parso<0.9.0,>=0.8.0 in c:\\users\\rifay\\anaconda3\\lib\\site-packages (from jedi>=0.16->ipython>=4.0.0->ipywidgets>=7.5.0->lux-widget>=0.1.4->lux-api) (0.8.2)\n",
      "Requirement already satisfied: pyzmq>=13 in c:\\users\\rifay\\anaconda3\\lib\\site-packages (from jupyter-client<8.0->ipykernel>=4.5.1->ipywidgets>=7.5.0->lux-widget>=0.1.4->lux-api) (22.2.1)\n",
      "Requirement already satisfied: jupyter-core>=4.6.0 in c:\\users\\rifay\\anaconda3\\lib\\site-packages (from jupyter-client<8.0->ipykernel>=4.5.1->ipywidgets>=7.5.0->lux-widget>=0.1.4->lux-api) (4.8.1)\n",
      "Requirement already satisfied: python-dateutil>=2.1 in c:\\users\\rifay\\anaconda3\\lib\\site-packages (from jupyter-client<8.0->ipykernel>=4.5.1->ipywidgets>=7.5.0->lux-widget>=0.1.4->lux-api) (2.8.2)\n",
      "Requirement already satisfied: pywin32>=1.0 in c:\\users\\rifay\\anaconda3\\lib\\site-packages (from jupyter-core>=4.6.0->jupyter-client<8.0->ipykernel>=4.5.1->ipywidgets>=7.5.0->lux-widget>=0.1.4->lux-api) (228)\n",
      "Requirement already satisfied: kiwisolver>=1.0.1 in c:\\users\\rifay\\anaconda3\\lib\\site-packages (from matplotlib>=3.0.0->lux-api) (1.3.1)\n",
      "Requirement already satisfied: pillow>=6.2.0 in c:\\users\\rifay\\anaconda3\\lib\\site-packages (from matplotlib>=3.0.0->lux-api) (8.4.0)\n",
      "Requirement already satisfied: pyparsing>=2.2.1 in c:\\users\\rifay\\anaconda3\\lib\\site-packages (from matplotlib>=3.0.0->lux-api) (3.0.4)\n",
      "Requirement already satisfied: cycler>=0.10 in c:\\users\\rifay\\anaconda3\\lib\\site-packages (from matplotlib>=3.0.0->lux-api) (0.10.0)\n",
      "Requirement already satisfied: argon2-cffi in c:\\users\\rifay\\anaconda3\\lib\\site-packages (from notebook>=4.0.0->lux-widget>=0.1.4->lux-api) (20.1.0)\n",
      "Requirement already satisfied: Send2Trash>=1.5.0 in c:\\users\\rifay\\anaconda3\\lib\\site-packages (from notebook>=4.0.0->lux-widget>=0.1.4->lux-api) (1.8.0)\n",
      "Requirement already satisfied: prometheus-client in c:\\users\\rifay\\anaconda3\\lib\\site-packages (from notebook>=4.0.0->lux-widget>=0.1.4->lux-api) (0.11.0)\n",
      "Requirement already satisfied: terminado>=0.8.3 in c:\\users\\rifay\\anaconda3\\lib\\site-packages (from notebook>=4.0.0->lux-widget>=0.1.4->lux-api) (0.9.4)\n",
      "Requirement already satisfied: nbconvert in c:\\users\\rifay\\anaconda3\\lib\\site-packages (from notebook>=4.0.0->lux-widget>=0.1.4->lux-api) (6.1.0)\n",
      "Requirement already satisfied: pytz>=2017.3 in c:\\users\\rifay\\anaconda3\\lib\\site-packages (from pandas->lux-api) (2021.3)\n",
      "Requirement already satisfied: wcwidth in c:\\users\\rifay\\anaconda3\\lib\\site-packages (from prompt-toolkit!=3.0.0,!=3.0.1,<3.1.0,>=2.0.0->ipython>=4.0.0->ipywidgets>=7.5.0->lux-widget>=0.1.4->lux-api) (0.2.5)\n",
      "Requirement already satisfied: threadpoolctl>=2.0.0 in c:\\users\\rifay\\anaconda3\\lib\\site-packages (from scikit-learn>=0.22->lux-api) (2.2.0)\n",
      "Requirement already satisfied: joblib>=0.11 in c:\\users\\rifay\\anaconda3\\lib\\site-packages (from scikit-learn>=0.22->lux-api) (1.1.0)\n",
      "Requirement already satisfied: pywinpty>=0.5 in c:\\users\\rifay\\anaconda3\\lib\\site-packages (from terminado>=0.8.3->notebook>=4.0.0->lux-widget>=0.1.4->lux-api) (0.5.7)\n",
      "Requirement already satisfied: cffi>=1.0.0 in c:\\users\\rifay\\anaconda3\\lib\\site-packages (from argon2-cffi->notebook>=4.0.0->lux-widget>=0.1.4->lux-api) (1.14.6)\n",
      "Requirement already satisfied: pycparser in c:\\users\\rifay\\anaconda3\\lib\\site-packages (from cffi>=1.0.0->argon2-cffi->notebook>=4.0.0->lux-widget>=0.1.4->lux-api) (2.20)\n",
      "Requirement already satisfied: MarkupSafe>=0.23 in c:\\users\\rifay\\anaconda3\\lib\\site-packages (from jinja2->altair>=4.0.0->lux-api) (1.1.1)\n",
      "Requirement already satisfied: testpath in c:\\users\\rifay\\anaconda3\\lib\\site-packages (from nbconvert->notebook>=4.0.0->lux-widget>=0.1.4->lux-api) (0.5.0)\n",
      "Requirement already satisfied: jupyterlab-pygments in c:\\users\\rifay\\anaconda3\\lib\\site-packages (from nbconvert->notebook>=4.0.0->lux-widget>=0.1.4->lux-api) (0.1.2)\n",
      "Requirement already satisfied: defusedxml in c:\\users\\rifay\\anaconda3\\lib\\site-packages (from nbconvert->notebook>=4.0.0->lux-widget>=0.1.4->lux-api) (0.7.1)\n",
      "Requirement already satisfied: nbclient<0.6.0,>=0.5.0 in c:\\users\\rifay\\anaconda3\\lib\\site-packages (from nbconvert->notebook>=4.0.0->lux-widget>=0.1.4->lux-api) (0.5.3)\n",
      "Requirement already satisfied: bleach in c:\\users\\rifay\\anaconda3\\lib\\site-packages (from nbconvert->notebook>=4.0.0->lux-widget>=0.1.4->lux-api) (4.0.0)\n",
      "Requirement already satisfied: pandocfilters>=1.4.1 in c:\\users\\rifay\\anaconda3\\lib\\site-packages (from nbconvert->notebook>=4.0.0->lux-widget>=0.1.4->lux-api) (1.4.3)\n",
      "Requirement already satisfied: mistune<2,>=0.8.1 in c:\\users\\rifay\\anaconda3\\lib\\site-packages (from nbconvert->notebook>=4.0.0->lux-widget>=0.1.4->lux-api) (0.8.4)\n",
      "Requirement already satisfied: nest-asyncio in c:\\users\\rifay\\anaconda3\\lib\\site-packages (from nbclient<0.6.0,>=0.5.0->nbconvert->notebook>=4.0.0->lux-widget>=0.1.4->lux-api) (1.5.1)\n",
      "Requirement already satisfied: async-generator in c:\\users\\rifay\\anaconda3\\lib\\site-packages (from nbclient<0.6.0,>=0.5.0->nbconvert->notebook>=4.0.0->lux-widget>=0.1.4->lux-api) (1.10)\n",
      "Requirement already satisfied: webencodings in c:\\users\\rifay\\anaconda3\\lib\\site-packages (from bleach->nbconvert->notebook>=4.0.0->lux-widget>=0.1.4->lux-api) (0.5.1)\n",
      "Requirement already satisfied: packaging in c:\\users\\rifay\\anaconda3\\lib\\site-packages (from bleach->nbconvert->notebook>=4.0.0->lux-widget>=0.1.4->lux-api) (21.0)\n"
     ]
    }
   ],
   "source": [
    "# Install packages if necessary\n",
    "\n",
    "!pip install pandas\n",
    "!pip install lux-api"
   ]
  },
  {
   "cell_type": "code",
   "execution_count": 2,
   "id": "28fc97b9",
   "metadata": {},
   "outputs": [
    {
     "name": "stderr",
     "output_type": "stream",
     "text": [
      "Installing C:\\Users\\rifay\\anaconda3\\lib\\site-packages\\luxwidget\\nbextension/static -> luxwidget\n",
      "Up to date: C:\\ProgramData\\jupyter\\nbextensions\\luxwidget\\extension.js\n",
      "Up to date: C:\\ProgramData\\jupyter\\nbextensions\\luxwidget\\index.js\n",
      "Up to date: C:\\ProgramData\\jupyter\\nbextensions\\luxwidget\\index.js.map\n",
      "- Validating: ok\n",
      "\n",
      "    To initialize this nbextension in the browser every time the notebook (or other app) loads:\n",
      "    \n",
      "          jupyter nbextension enable luxwidget --py\n",
      "    \n",
      "Enabling notebook extension luxwidget/extension...\n",
      "      - Validating: ok\n"
     ]
    }
   ],
   "source": [
    "# Install extenstions to use Lux in notebook if necessary. (note: if first time may have to restart notebook for lux to work)\n",
    "\n",
    "!jupyter nbextension install --py luxwidget\n",
    "!jupyter nbextension enable --py luxwidget"
   ]
  },
  {
   "cell_type": "code",
   "execution_count": 1,
   "id": "2afcd9be",
   "metadata": {},
   "outputs": [],
   "source": [
    "# Import necessary packages\n",
    "\n",
    "import pandas as pd\n",
    "import lux"
   ]
  },
  {
   "cell_type": "code",
   "execution_count": 2,
   "id": "280bac40",
   "metadata": {},
   "outputs": [],
   "source": [
    "# Create dataset and put into a dataframe\n",
    "\n",
    "url='https://www.basketball-reference.com/leagues/NBA_2022_totals.html'\n",
    "\n",
    "list = pd.read_html(url)\n",
    "df = pd.DataFrame(list[0])"
   ]
  },
  {
   "cell_type": "code",
   "execution_count": 3,
   "id": "02fbd537",
   "metadata": {},
   "outputs": [
    {
     "data": {
      "application/vnd.jupyter.widget-view+json": {
       "model_id": "86df782f25da4460a268e09e5830a152",
       "version_major": 2,
       "version_minor": 0
      },
      "text/plain": [
       "Button(description='Toggle Pandas/Lux', layout=Layout(top='5px', width='140px'), style=ButtonStyle())"
      ]
     },
     "metadata": {},
     "output_type": "display_data"
    },
    {
     "data": {
      "application/vnd.jupyter.widget-view+json": {
       "model_id": "17af037394bc4456a1821b4b14363aaa",
       "version_major": 2,
       "version_minor": 0
      },
      "text/plain": [
       "Output()"
      ]
     },
     "metadata": {},
     "output_type": "display_data"
    }
   ],
   "source": [
    "# Data cleanup as headers repeat and total lines not necessary under Tm Column\n",
    "\n",
    "df = df[(df['Rk']!='Rk')&(df['Tm']!='TOT')]\n",
    "df"
   ]
  },
  {
   "cell_type": "code",
   "execution_count": 4,
   "id": "94a8cca3",
   "metadata": {},
   "outputs": [
    {
     "data": {
      "application/vnd.jupyter.widget-view+json": {
       "model_id": "9f00c019a1ca4682bf998d0110b9aae3",
       "version_major": 2,
       "version_minor": 0
      },
      "text/plain": [
       "Button(description='Toggle Pandas/Lux', layout=Layout(top='5px', width='140px'), style=ButtonStyle())"
      ]
     },
     "metadata": {},
     "output_type": "display_data"
    },
    {
     "data": {
      "application/vnd.jupyter.widget-view+json": {
       "model_id": "97c108e942624f94a1fcf3591cfd1471",
       "version_major": 2,
       "version_minor": 0
      },
      "text/plain": [
       "Output()"
      ]
     },
     "metadata": {},
     "output_type": "display_data"
    }
   ],
   "source": [
    "# Converting variables of interest to integers\n",
    "\n",
    "df['STL'].astype(int)\n",
    "df['BLK'].astype(int)"
   ]
  },
  {
   "cell_type": "code",
   "execution_count": 5,
   "id": "7a523d74",
   "metadata": {},
   "outputs": [
    {
     "data": {
      "application/vnd.jupyter.widget-view+json": {
       "model_id": "6da107ec2eb54d228eeb496c72b277ce",
       "version_major": 2,
       "version_minor": 0
      },
      "text/plain": [
       "Button(description='Toggle Pandas/Lux', layout=Layout(top='5px', width='140px'), style=ButtonStyle())"
      ]
     },
     "metadata": {},
     "output_type": "display_data"
    },
    {
     "data": {
      "application/vnd.jupyter.widget-view+json": {
       "model_id": "7d2bbec9d93944bfb83d7045c593149e",
       "version_major": 2,
       "version_minor": 0
      },
      "text/plain": [
       "Output()"
      ]
     },
     "metadata": {},
     "output_type": "display_data"
    }
   ],
   "source": [
    "# Using variable of interest for lux\n",
    "\n",
    "df.intent = ['STL']\n",
    "df"
   ]
  },
  {
   "cell_type": "code",
   "execution_count": 7,
   "id": "4f3e9c42",
   "metadata": {},
   "outputs": [
    {
     "data": {
      "application/vnd.jupyter.widget-view+json": {
       "model_id": "87b74460323c4de29143bf1344f836cb",
       "version_major": 2,
       "version_minor": 0
      },
      "text/plain": [
       "Button(description='Toggle Pandas/Lux', layout=Layout(top='5px', width='140px'), style=ButtonStyle())"
      ]
     },
     "metadata": {},
     "output_type": "display_data"
    },
    {
     "data": {
      "application/vnd.jupyter.widget-view+json": {
       "model_id": "630716248fd049cda53941af2a21a97a",
       "version_major": 2,
       "version_minor": 0
      },
      "text/plain": [
       "Output()"
      ]
     },
     "metadata": {},
     "output_type": "display_data"
    }
   ],
   "source": [
    "# Gathering numeric and categorical variable for lux\n",
    "\n",
    "df.intent = ['STL', 'Pos']\n",
    "df"
   ]
  },
  {
   "cell_type": "code",
   "execution_count": 8,
   "id": "2e5a3717",
   "metadata": {},
   "outputs": [
    {
     "data": {
      "application/vnd.jupyter.widget-view+json": {
       "model_id": "52ec2d8d11364f28baf85f642ceaa592",
       "version_major": 2,
       "version_minor": 0
      },
      "text/plain": [
       "Button(description='Toggle Pandas/Lux', layout=Layout(top='5px', width='140px'), style=ButtonStyle())"
      ]
     },
     "metadata": {},
     "output_type": "display_data"
    },
    {
     "data": {
      "application/vnd.jupyter.widget-view+json": {
       "model_id": "bd9ed2044dc345229f424a985705a0aa",
       "version_major": 2,
       "version_minor": 0
      },
      "text/plain": [
       "Output()"
      ]
     },
     "metadata": {},
     "output_type": "display_data"
    }
   ],
   "source": [
    "# Gathering multiple numeric and categorical variable for lux\n",
    "\n",
    "df.intent = ['STL', 'BLK', 'Pos']\n",
    "df"
   ]
  },
  {
   "cell_type": "code",
   "execution_count": 9,
   "id": "de45da4d",
   "metadata": {},
   "outputs": [
    {
     "data": {
      "application/vnd.jupyter.widget-view+json": {
       "model_id": "437cdfa728ed40508fcf0c3fe589a638",
       "version_major": 2,
       "version_minor": 0
      },
      "text/plain": [
       "LuxWidget(current_vis={'config': {'view': {'continuousWidth': 400, 'continuousHeight': 300}, 'axis': {'labelCo…"
      ]
     },
     "metadata": {},
     "output_type": "display_data"
    }
   ],
   "source": [
    "# Analyzing exported variable\n",
    "\n",
    "vis = df.exported[0]\n",
    "vis"
   ]
  }
 ],
 "metadata": {
  "kernelspec": {
   "display_name": "Python 3 (ipykernel)",
   "language": "python",
   "name": "python3"
  },
  "language_info": {
   "codemirror_mode": {
    "name": "ipython",
    "version": 3
   },
   "file_extension": ".py",
   "mimetype": "text/x-python",
   "name": "python",
   "nbconvert_exporter": "python",
   "pygments_lexer": "ipython3",
   "version": "3.9.7"
  }
 },
 "nbformat": 4,
 "nbformat_minor": 5
}
